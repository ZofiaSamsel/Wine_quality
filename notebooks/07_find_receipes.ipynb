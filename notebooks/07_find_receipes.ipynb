{
 "cells": [
  {
   "cell_type": "markdown",
   "metadata": {},
   "source": [
    "# Recipe\n",
    "\n",
    "This notbook is used to defining the methodology for identifying important features in wine quality datasets."
   ]
  },
  {
   "cell_type": "markdown",
   "metadata": {},
   "source": [
    "## 1. Identify Important Features"
   ]
  },
  {
   "cell_type": "code",
   "execution_count": null,
   "metadata": {},
   "outputs": [],
   "source": [
    "def identyfy_three_important_features(evaluation_matrix_list): \n",
    "    '''\n",
    "    This function identifies the three most important features from each evaluation matrix (which could be model results or analysis outputs) in the given list. \n",
    "    It is used to pinpoint key factors influencing wine quality.\n",
    "    '''\n",
    "    result_dict = []\n",
    "    # Iterate through unique dataframes\n",
    "    for dataframe in evaluation_matrix_list:\n",
    "        df_subset = dataframe[0].iloc[1:].copy()\n",
    "        df_subset['Coefficients'] = df_subset['Coefficients'].abs()\n",
    "        \n",
    "        # Sort the subset based on coefficients in descending order\n",
    "        sorted_subset = df_subset.sort_values(by='Coefficients', ascending=False).reset_index(drop=True)\n",
    "\n",
    "        # Select the top three important features\n",
    "        top_three_features = sorted_subset['Parameters'].loc[:2:].tolist()   \n",
    "        # Create a dictionary entry for the current dataframe\n",
    "        results_df = result_dict.append({dataframe[0]['df'][1] : top_three_features})\n",
    "        \n",
    "    return result_dict"
   ]
  },
  {
   "cell_type": "markdown",
   "metadata": {},
   "source": [
    "## 2. Finding the recipe for the good and poor wine\n",
    "\n",
    "This section is dedicated to applying the methodologies or processes established earlier to specifically categorize and analyze good and poor quality wines."
   ]
  },
  {
   "cell_type": "code",
   "execution_count": null,
   "metadata": {},
   "outputs": [],
   "source": [
    "# Here, the function to identify top three important features is called with the evaluation matrix list as the argument. \n",
    "# The output will be used to understand critical factors in wine quality.\n",
    "top_three_features_list = identyfy_three_important_features(evaluation_matrix_list=evaluation_matrix_list)"
   ]
  },
  {
   "cell_type": "code",
   "execution_count": null,
   "metadata": {},
   "outputs": [],
   "source": [
    "features_to_reverse_white = ['chlorides', 'volatile acidity']\n",
    "features_to_reverse_red = ['residual sugar', 'chlorides']\n",
    "\n",
    "def correct_reverse_log_transformation(df, features):\n",
    "    '''\n",
    "    This function reverses the logarithmic transformation applied to certain features in the dataframe. \n",
    "    This is useful for converting transformed data back to its original scale, often for interpretation or further analysis.    \n",
    "    '''\n",
    "    for feature in features:\n",
    "        if feature in df.columns:\n",
    "            df[feature] = np.exp(df[feature])\n",
    "    return df\n",
    "\n",
    "df_white_good_without_outliers = correct_reverse_log_transformation(df_white_good_without_outliers, features_to_reverse_white)\n",
    "df_white_poor_without_outliers = correct_reverse_log_transformation(df_white_poor_without_outliers, features_to_reverse_white)\n",
    "\n",
    "df_red_good_without_outliers = correct_reverse_log_transformation(df_red_good_without_outliers, features_to_reverse_red)\n",
    "df_red_poor_without_outliers = correct_reverse_log_transformation(df_red_poor_without_outliers, features_to_reverse_red)"
   ]
  },
  {
   "cell_type": "code",
   "execution_count": null,
   "metadata": {},
   "outputs": [],
   "source": [
    "def get_receipes(top_three_features_list, df_lists):\n",
    "    '''\n",
    "    his function calculates and prints the 'recipes' for different types of wine, based on the top three features identified earlier. \n",
    "    It computes the mean and standard deviation for these features, using these to define a range that characterizes each wine type.\n",
    "    '''\n",
    "    for df in df_lists:\n",
    "        pipeline_name = f\"Pipeline_{get_wine_str(df)}\"\n",
    "        for model in top_three_features_list:\n",
    "            if pipeline_name in model:\n",
    "                feature_list = model[pipeline_name]\n",
    "                numeric_columns = check_numeric_columns(df)\n",
    "                numeric_df = df[numeric_columns]\n",
    "\n",
    "                means = numeric_df[feature_list].mean()\n",
    "                stds = numeric_df[feature_list].std()\n",
    "\n",
    "                ranges = {feature: (means[feature] - stds[feature], means[feature] + stds[feature]) for feature in feature_list}\n",
    "\n",
    "                print(f\"\\nRecipes of {get_wine_str(df)} wine:\")\n",
    "                for feature, range_vals in ranges.items():\n",
    "                    print(f\"{feature.capitalize()}: {range_vals[0]:.2f} - {range_vals[1]:.2f}\")\n"
   ]
  },
  {
   "cell_type": "code",
   "execution_count": null,
   "metadata": {},
   "outputs": [],
   "source": [
    "get_receipes(top_three_features_list, wine_quality_without_outliers_dfs) "
   ]
  },
  {
   "cell_type": "code",
   "execution_count": null,
   "metadata": {},
   "outputs": [],
   "source": [
    "import matplotlib.pyplot as plt\n",
    "import numpy as np\n",
    "from sklearn.ensemble import RandomForestClassifier\n",
    "\n",
    "# Function to train Random Forest and get feature importances\n",
    "def get_feature_importances(dataframe):\n",
    "    # Check and select only numeric columns, excluding 'quality'\n",
    "    numeric_columns = dataframe.select_dtypes(include=np.number).columns.tolist()\n",
    "    if 'quality' in numeric_columns:\n",
    "        numeric_columns.remove('quality')\n",
    "    X = dataframe[numeric_columns]\n",
    "    y = dataframe['quality']\n",
    "    rf = RandomForestClassifier(random_state=42)\n",
    "    rf.fit(X, y)\n",
    "    return rf.feature_importances_, numeric_columns\n",
    "\n",
    "# Load your dataframes here\n",
    "# df_red_good_without_outliers, df_red_poor_without_outliers, df_white_good_without_outliers, df_white_poor_without_outliers\n",
    "\n",
    "# Get feature importances and numeric columns\n",
    "good_red_importances, good_red_columns = get_feature_importances(df_red_good_without_outliers)\n",
    "poor_red_importances, poor_red_columns = get_feature_importances(df_red_poor_without_outliers)\n",
    "good_white_importances, good_white_columns = get_feature_importances(df_white_good_without_outliers)\n",
    "poor_white_importances, poor_white_columns = get_feature_importances(df_white_poor_without_outliers)\n",
    "\n",
    "# Plotting\n",
    "fig, axes = plt.subplots(1, 4, figsize=(20, 5), sharey=True)\n",
    "axes[0].bar(good_red_columns, good_red_importances)\n",
    "axes[1].bar(poor_red_columns, poor_red_importances)\n",
    "axes[2].bar(good_white_columns, good_white_importances)\n",
    "axes[3].bar(poor_white_columns, poor_white_importances)\n",
    "\n",
    "# Add titles and sample sizes as annotations\n",
    "for i, df, columns in zip(range(4), \n",
    "                          [df_red_good_without_outliers, df_red_poor_without_outliers, df_white_good_without_outliers, df_white_poor_without_outliers], \n",
    "                          [good_red_columns, poor_red_columns, good_white_columns, poor_white_columns]):\n",
    "    axes[i].set_title(f\"{'Good' if i%2 == 0 else 'Poor'} {'Red' if i < 2 else 'White'} Wine\")\n",
    "    axes[i].set_xticks(range(len(columns)))\n",
    "    axes[i].set_xticklabels(columns, rotation=45, ha=\"right\")\n",
    "    axes[i].annotate(f\"n = {len(df)}\", xy=(0.5, 1), xycoords='axes fraction', ha='center')\n",
    "\n",
    "plt.tight_layout()\n",
    "plt.show()"
   ]
  }
 ],
 "metadata": {
  "kernelspec": {
   "display_name": "Python 3",
   "language": "python",
   "name": "python3"
  },
  "language_info": {
   "codemirror_mode": {
    "name": "ipython",
    "version": 3
   },
   "file_extension": ".py",
   "mimetype": "text/x-python",
   "name": "python",
   "nbconvert_exporter": "python",
   "pygments_lexer": "ipython3",
   "version": "3.11.6"
  }
 },
 "nbformat": 4,
 "nbformat_minor": 2
}
