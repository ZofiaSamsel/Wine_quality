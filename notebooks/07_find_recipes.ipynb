{
 "cells": [
  {
   "cell_type": "markdown",
   "metadata": {},
   "source": [
    "# Recipe\n",
    "\n",
    "This notbook is used to defining the methodology for identifying important features in wine quality datasets."
   ]
  },
  {
   "cell_type": "code",
   "execution_count": 2,
   "metadata": {},
   "outputs": [],
   "source": [
    "%%capture\n",
    "%run 06_model_building.ipynb"
   ]
  },
  {
   "cell_type": "markdown",
   "metadata": {},
   "source": [
    "## 1. Identify Important Features"
   ]
  },
  {
   "cell_type": "code",
   "execution_count": 3,
   "metadata": {},
   "outputs": [],
   "source": [
    " def identyfy_important_features(df, number_of_parameters): \n",
    "    \"\"\"\n",
    "    Identifies features with the highest coefficient for each model in the dataframe.\n",
    "\n",
    "    Parameters:\n",
    "        - df: DataFrame containing model information\n",
    "        - number_of_parameters: Number of top features to select for each model\n",
    "\n",
    "    Returns:\n",
    "        List of dictionaries with model names and their corresponding top features\n",
    "    \"\"\"\n",
    "    result_dict = []\n",
    "    #check each model \n",
    "    for model in range(len(df)):\n",
    "\n",
    "        # take only significant params\n",
    "        significant_params = (df.iloc[model]['model'].params[1:][df.iloc[model]['model'].pvalues < 0.05]).abs().sort_values(ascending=False)\n",
    "\n",
    "        # select 3 the best\n",
    "        top_features = list(significant_params[:number_of_parameters].index)  \n",
    "        # Create a dictionary entry for the current dataframe\n",
    "        results_df = result_dict.append({df.iloc[0]['Model name']: top_features})\n",
    "        \n",
    "    return result_dict"
   ]
  },
  {
   "cell_type": "markdown",
   "metadata": {},
   "source": [
    "## 2. Finding the receipe for the good and poor wine\n",
    "\n",
    "This section is dedicated to applying the methodologies or processes established earlier to specifically categorize and analyze good and poor quality wines."
   ]
  },
  {
   "cell_type": "code",
   "execution_count": 4,
   "metadata": {},
   "outputs": [
    {
     "data": {
      "text/plain": [
       "[{'Model_White Wine Poor (Without Outliers)': ['volatile acidity',\n",
       "   'fixed acidity',\n",
       "   'residual sugar']},\n",
       " {'Model_White Wine Poor (Without Outliers)': ['density',\n",
       "   'pH',\n",
       "   'fixed acidity']},\n",
       " {'Model_White Wine Poor (Without Outliers)': ['volatile acidity',\n",
       "   'citric acid',\n",
       "   'pH']},\n",
       " {'Model_White Wine Poor (Without Outliers)': ['sulphates',\n",
       "   'chlorides',\n",
       "   'alcohol']}]"
      ]
     },
     "execution_count": 4,
     "metadata": {},
     "output_type": "execute_result"
    }
   ],
   "source": [
    "# Here, the function to identify top three important features is called with the evaluation matrix list as the argument. \n",
    "# The output will be used to understand critical factors in wine quality.\n",
    "top_three_features_list = identyfy_important_features(df=results_df, number_of_parameters=3)\n",
    "top_three_features_list"
   ]
  },
  {
   "cell_type": "code",
   "execution_count": 5,
   "metadata": {},
   "outputs": [
    {
     "name": "stderr",
     "output_type": "stream",
     "text": [
      "/var/folders/bg/px1wxjwx6dz5w5214_zfxwx40000gn/T/ipykernel_11448/1514931890.py:11: SettingWithCopyWarning: \n",
      "A value is trying to be set on a copy of a slice from a DataFrame.\n",
      "Try using .loc[row_indexer,col_indexer] = value instead\n",
      "\n",
      "See the caveats in the documentation: https://pandas.pydata.org/pandas-docs/stable/user_guide/indexing.html#returning-a-view-versus-a-copy\n",
      "  df[feature] = np.exp(df[feature])\n"
     ]
    }
   ],
   "source": [
    "features_to_reverse_white = ['chlorides', 'volatile acidity']\n",
    "features_to_reverse_red = ['residual sugar', 'chlorides']\n",
    "\n",
    "def correct_reverse_log_transformation(df, features):\n",
    "    '''\n",
    "    This function reverses the logarithmic transformation applied to certain features in the dataframe. \n",
    "    This is useful for converting transformed data back to its original scale, often for interpretation or further analysis.    \n",
    "    '''\n",
    "    for feature in features:\n",
    "        if feature in df.columns:\n",
    "            df[feature] = np.exp(df[feature])\n",
    "    return df\n",
    "\n",
    "df_white_good_without_outliers = correct_reverse_log_transformation(df_white_good_without_outliers, features_to_reverse_white)\n",
    "df_white_poor_without_outliers = correct_reverse_log_transformation(df_white_poor_without_outliers, features_to_reverse_white)\n",
    "\n",
    "df_red_good_without_outliers = correct_reverse_log_transformation(df_red_good_without_outliers, features_to_reverse_red)\n",
    "df_red_poor_without_outliers = correct_reverse_log_transformation(df_red_poor_without_outliers, features_to_reverse_red)"
   ]
  },
  {
   "cell_type": "code",
   "execution_count": 13,
   "metadata": {},
   "outputs": [],
   "source": [
    "def get_receipes(top_three_features_list, df_lists):\n",
    "    '''\n",
    "    his function calculates and prints the 'recipes' for different types of wine, based on the top three features identified earlier. \n",
    "    It computes the mean and standard deviation for these features, using these to define a range that characterizes each wine type.\n",
    "    '''\n",
    "    for df in df_lists:\n",
    "        pipeline_name = f\"Model_{get_wine_str(df)}\"\n",
    "        for model in top_three_features_list:\n",
    "            if pipeline_name in model:\n",
    "                feature_list = model[pipeline_name]\n",
    "                numeric_columns = check_numeric_columns(df)\n",
    "                numeric_df = df[numeric_columns]\n",
    "\n",
    "                means = numeric_df[feature_list].mean()\n",
    "                stds = numeric_df[feature_list].std()\n",
    "\n",
    "                ranges = {feature: (means[feature] - stds[feature], means[feature] + stds[feature]) for feature in feature_list}\n",
    "\n",
    "                print(f\"\\nRecipes of {get_wine_str(df)} wine:\")\n",
    "                for feature, range_vals in ranges.items():\n",
    "                    print(f\"{feature.capitalize()}: {range_vals[0]:.2f} - {range_vals[1]:.2f}\")\n"
   ]
  },
  {
   "cell_type": "code",
   "execution_count": 14,
   "metadata": {},
   "outputs": [
    {
     "name": "stdout",
     "output_type": "stream",
     "text": [
      "\n",
      "Recipes of White Wine Poor (Without Outliers) wine:\n",
      "Volatile acidity: 0.20 - 0.42\n",
      "Fixed acidity: 6.08 - 7.85\n",
      "Residual sugar: 1.78 - 12.35\n",
      "\n",
      "Recipes of White Wine Poor (Without Outliers) wine:\n",
      "Density: 0.99 - 1.00\n",
      "Ph: 3.03 - 3.31\n",
      "Fixed acidity: 6.08 - 7.85\n",
      "\n",
      "Recipes of White Wine Poor (Without Outliers) wine:\n",
      "Volatile acidity: 0.20 - 0.42\n",
      "Citric acid: 0.19 - 0.48\n",
      "Ph: 3.03 - 3.31\n",
      "\n",
      "Recipes of White Wine Poor (Without Outliers) wine:\n",
      "Sulphates: 0.38 - 0.58\n",
      "Chlorides: 0.03 - 0.08\n",
      "Alcohol: 8.97 - 10.73\n"
     ]
    }
   ],
   "source": [
    "get_receipes(top_three_features_list, wine_quality_without_outliers_dfs) "
   ]
  }
 ],
 "metadata": {
  "kernelspec": {
   "display_name": "Python 3",
   "language": "python",
   "name": "python3"
  },
  "language_info": {
   "codemirror_mode": {
    "name": "ipython",
    "version": 3
   },
   "file_extension": ".py",
   "mimetype": "text/x-python",
   "name": "python",
   "nbconvert_exporter": "python",
   "pygments_lexer": "ipython3",
   "version": "3.11.6"
  }
 },
 "nbformat": 4,
 "nbformat_minor": 2
}
