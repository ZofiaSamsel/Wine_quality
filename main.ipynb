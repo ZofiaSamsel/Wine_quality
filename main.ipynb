{
 "cells": [
  {
   "cell_type": "markdown",
   "metadata": {
    "slideshow": {
     "slide_type": "slide"
    }
   },
   "source": [
    "# Unveiling the Secrets of Wine Quality\n",
    "\n",
    "Bypassing traditional tasting methods, this project employs data analysis to predict the quality of wine based on its chemical features."
   ]
  },
  {
   "cell_type": "markdown",
   "metadata": {},
   "source": [
    "## 🍷 1. Introduction about the Data Set\n",
    "\n",
    "### 📖 1.1 General Information:\n",
    "- **Provided by**: [The UCI Machine Learning Repository](http://archive.ics.uci.edu/dataset/109/wine).\n",
    "- **Donated by**: Paulo Cortez, Antonio Cerdeira, Fernando Almeida, Telmo Matos, and Jose Reis.\n",
    "   - 📜 **Their paper**: [Modeling wine preferences by data mining from physicochemical properties](https://repositorium.sdum.uminho.pt/bitstream/1822/10029/1/wine5.pdf).\n",
    "   - 🧐 **Main idea**: Using data mining to understand how various factors influence wine quality, offering insights into wine production and certification. \n",
    "   - ⚒️ **Approach**: Support Vector Machines (SVM), Neural Networks (NN), and Multiple Regression (MR) techniques.\n",
    "   - 🧰 **Conclusion**: \n",
    "     - For assessing wine quality, the Support Vector Machine (SVM) method outperforms other techniques in accuracy, especially for white wines.\n",
    "     - Alcohol level is a key factor in determining wine quality. Citric acid and residual sugar are more significant in white wines, whereas sulphates are highly important in both types.\n",
    "\n",
    "### 🍇 1.2 Info about the Wine:\n",
    "- **Types**: Both white and red wines from the Vinho Verde region in northwestern Portugal 🇵🇹.\n",
    "- **Production**: Represents 15% of Portuguese production.\n",
    "\n",
    "### 📊 1.3 Info about the Datasets:\n",
    "- **Wines**: 1599 red and 4898 white samples.\n",
    "- **Collection**:\n",
    "   - ⏳ Timeframe: May 2004 to February 2007.\n",
    "   - 🏷️ Type: Only protected designation of origin samples by CVRVV (Comissão de Viticultura da Região dos Vinhos Verdes), focused on enhancing the quality and marketing of vinho verde.\n",
    "- **Quality Assessment**:\n",
    "   - Rated by at least three sensory assessors (blind tastes), on a 0 (very bad) to 10 (excellent) scale. The final score is the median of these ratings.\n",
    "- **Chemical Features Tested**:\n",
    "   - 🧪 Data recorded by iLab, a computerized system managing wine sample testing.\n",
    "   - Tests include density, alcohol, pH values, etc.\n",
    "- **Limitation**:\n",
    "  - Lack of Temporal Information:\n",
    "    - We are unable to analyze variations in wine quality across different years, also making it impossible for us to identify the relationship between weather conditions and wine quality.\n",
    "  - Lack of Brand and Public Preference Data: \n",
    "    - We are unable to establish a direct link between wine quality attributes and consumer preferences or sales performance. "
   ]
  },
  {
   "cell_type": "markdown",
   "metadata": {},
   "source": [
    "## 2. Research Questions and Motivations\n",
    "\n",
    "### 2.1 Research Questions\n",
    "Our reserach questions enhances and expands upon prior studies by:\n",
    "  \n",
    "- 🛠️ **Model Comparison Pipeline**: Developing a systematic pipeline to contrast various models. This includes tuning hyperparameters and evaluating performance scores.\n",
    "- 🍇 **Quality Wine Recipes**: Crafting formulas for both **top-quality** and **poor-quality wines**. These models aim to avert the production of low-quality wines and spotlight the unique attributes of top-tier wines.\n",
    "  - 🔍 **Deep Dive with PCA**: Investigating nuances in high-rated wines and applying Principal Component Analysis (PCA) for a more thorough exploration, surpassing traditional data mining approaches.\n",
    "  - 🎯 **Focusing on Classification**: Utilizing advanced models like logistic regression and Random Forest for classifying wine quality tiers, assessing their accuracy, and pinpointing crucial quality influencers.\n",
    "\n",
    "\n",
    "\n",
    "### 2.2 Motivations:\n",
    "- 🇫🇷 **Cultural Significance**: Residing in France, a nation celebrated for its wine tradition, we seek to deepen our understanding of wine. This analysisfosters a greater appreciation of this heritage.\n",
    "  \n",
    "- 📊 **Analytical Depth:** Leveraging data-driven methods to explore wine quality nuances. This exploration will enhance our analytical skills while shedding light on hidden characteristics within wines.\n",
    "- 🍾 **Enhancing Wine Production:** Providing actionable insights for quality improvement through advanced statistical and machine learning techniques."
   ]
  },
  {
   "cell_type": "markdown",
   "metadata": {},
   "source": [
    "## 3. Data Analysis"
   ]
  },
  {
   "cell_type": "code",
   "execution_count": null,
   "metadata": {},
   "outputs": [],
   "source": [
    "from ucimlrepo import fetch_ucirepo \n",
    "import pandas as pd\n",
    "import scipy.stats as stats\n",
    "import matplotlib.pyplot as plt\n",
    "import numpy as np\n",
    "import seaborn as sns\n",
    "from scipy.stats import zscore"
   ]
  },
  {
   "cell_type": "markdown",
   "metadata": {},
   "source": [
    "### 3.1 Extract Data: Reading from CSV Files"
   ]
  },
  {
   "cell_type": "code",
   "execution_count": null,
   "metadata": {},
   "outputs": [],
   "source": [
    "# These csv files are downloaded from the UCI website.\n",
    "\n",
    "df_white_wine = pd.read_csv(\"data/winequality-white.csv\", sep=\";\")\n",
    "\n",
    "df_red_wine = pd.read_csv(\"data/winequality-red.csv\",sep=\";\")\n",
    "\n",
    "df_red_wine\n",
    "df_white_wine"
   ]
  },
  {
   "cell_type": "code",
   "execution_count": null,
   "metadata": {},
   "outputs": [],
   "source": [
    "df_white_wine.head()"
   ]
  },
  {
   "cell_type": "code",
   "execution_count": null,
   "metadata": {},
   "outputs": [],
   "source": [
    "df_red_wine.head()"
   ]
  },
  {
   "cell_type": "code",
   "execution_count": null,
   "metadata": {},
   "outputs": [],
   "source": [
    "wine_lists = [df_red_wine, df_white_wine]\n",
    "\n",
    "df_white_wine.wine_type = \"White Wine\"\n",
    "df_red_wine.wine_type = \"Red Wine\"\n",
    "\n",
    "def get_wine_str(wine_type_df):\n",
    "    return getattr(wine_type_df, 'wine_type', \"Unknown Wine\")"
   ]
  },
  {
   "cell_type": "markdown",
   "metadata": {},
   "source": [
    "### 3.2 Transformation\n",
    "\n",
    "Here we want to create QQ Plots to understand if the features follow normal distribution or not."
   ]
  },
  {
   "cell_type": "code",
   "execution_count": null,
   "metadata": {},
   "outputs": [],
   "source": [
    "def check_numeric_columns(wine_type_df):\n",
    "    return wine_type_df.select_dtypes(include=[np.number]).columns"
   ]
  },
  {
   "cell_type": "code",
   "execution_count": null,
   "metadata": {},
   "outputs": [],
   "source": [
    "## Q-Q \n",
    "# boxplot - log scale \n",
    "\n",
    "def create_qq_plot(wine_type_df):\n",
    "    wine_type = get_wine_str(wine_type_df)\n",
    "\n",
    "    # Select only the numerical columns from the DataFrame\n",
    "    numeric_columns = check_numeric_columns(wine_type_df)\n",
    "\n",
    "    # Set up the matplotlib figure and axes for a 3x3 grid\n",
    "    fig, axs = plt.subplots(3, 4, figsize=(20, 15))  # Adjust the size as needed\n",
    "\n",
    "    # Flatten the array of axes to make it easier to iterate over\n",
    "    axs = axs.flatten()\n",
    "\n",
    "    # Loop over the numerical columns and create a Q-Q plot for each\n",
    "    for i, column in enumerate(numeric_columns):  \n",
    "        data = wine_type_df[column]\n",
    "        stats.probplot(data, dist=\"norm\", plot=axs[i])\n",
    "        axs[i].set_title(column, fontsize = 16)\n",
    "        axs[i].set_xlabel('')\n",
    "        axs[i].set_ylabel('')\n",
    "\n",
    "    # Adjust layout to prevent overlap\n",
    "    fig.suptitle(f\"QQ Plots for {wine_type}\", fontsize=20, weight='bold')\n",
    "    plt.tight_layout(rect=[0, 0.03, 1, 0.95])\n",
    "    plt.show()"
   ]
  },
  {
   "cell_type": "code",
   "execution_count": null,
   "metadata": {},
   "outputs": [],
   "source": [
    "def create_plots(plot_function, list = wine_lists):\n",
    "    for i in list:\n",
    "        plot_function(i)"
   ]
  },
  {
   "cell_type": "code",
   "execution_count": null,
   "metadata": {},
   "outputs": [],
   "source": [
    "create_plots(create_qq_plot, wine_lists)"
   ]
  },
  {
   "cell_type": "markdown",
   "metadata": {},
   "source": [
    "### Observations from QQ Plots of Red and White Wine Datasets:\n",
    "\n",
    "1. **Right Skewness**:\n",
    "   - **Red Wine**: `Residual Sugar` and `Alcohol` show deviations in the lower quantiles.\n",
    "   - **White Wine**: Similar to Red Wine, `Residual Sugar` and `Alcohol` show deviations in the lower quantiles.\n",
    "\n",
    "2. **Left Skewness**:\n",
    "   - **Red Wine**: `Free Sulfur Dioxide`, `Chlorides`, and `Sulphates` show deviations in the upper quantiles.\n",
    "   - **White Wine**: `Volatile Acidity`, `Chlorides`, and `Sulphates` show deviations in the upper quantiles.\n",
    "\n",
    "3. **Implications for Data Processing**:\n",
    "   - The observed skewness in both datasets suggests the need for normalization transformations. We will continue to calculate skewness coefficient. \n",
    "   - Techniques like logarithmic or Box-Cox transformations may be beneficial to address these deviations and improve the homogeneity of the data."
   ]
  },
  {
   "cell_type": "code",
   "execution_count": null,
   "metadata": {},
   "outputs": [],
   "source": [
    "def calculate_skewness_coefficient(wine_type_df):\n",
    "\n",
    "    print(f\"\\nThe skewness coefficient of {get_wine_str(wine_type_df)}: \\n\")\n",
    "\n",
    "    numerical_columns = wine_type_df.select_dtypes(include=['number']).columns\n",
    "\n",
    "    for column in numerical_columns:  \n",
    "        skewness = round(wine_type_df[column].skew(),2)\n",
    "        print(f\"{column}: {skewness}\")"
   ]
  },
  {
   "cell_type": "code",
   "execution_count": null,
   "metadata": {},
   "outputs": [],
   "source": [
    "create_plots(calculate_skewness_coefficient, wine_lists)"
   ]
  },
  {
   "cell_type": "markdown",
   "metadata": {},
   "source": [
    "**Observations from the skewness coefficient**\n",
    "\n",
    "1. **White Wine**:\n",
    "   - Chlorides (5.02): Highly skewness. \n",
    "   - Volatile Acidity (1.58), Citric Acid (1.28), Residual Sugar (1.08), Free Sulfur Dioxide (1.41): : Moderate skewness.\n",
    "2. **Red Wine**:\n",
    "   - Residual Sugar (4.54) and Chlorides (5.68): Highly skewness\n",
    "   - Free Sulfur Dioxide (1.25), Total Sulfur Dioxide (1.52), Sulphates (2.43): Moderate skewness."
   ]
  },
  {
   "cell_type": "markdown",
   "metadata": {},
   "source": [
    "We are going to do log transformation for features of highly skewness and moderate skewness."
   ]
  },
  {
   "cell_type": "code",
   "execution_count": null,
   "metadata": {},
   "outputs": [],
   "source": [
    "white_wine_log_columns = [\n",
    "    'chlorides',\n",
    "    'volatile acidity',\n",
    "    'citric acid',\n",
    "    'residual sugar',\n",
    "    'free sulfur dioxide'\n",
    "]\n",
    "\n",
    "red_wine_log_columns = [\n",
    "    'residual sugar',\n",
    "    'chlorides',\n",
    "    'free sulfur dioxide',\n",
    "    'total sulfur dioxide',\n",
    "    'sulphates'\n",
    "]\n",
    "\n",
    "log_red_wine_df = df_red_wine.copy()\n",
    "log_white_wine_df = df_white_wine.copy()\n",
    "\n",
    "log_red_wine_df[red_wine_log_columns] = np.log(log_red_wine_df[red_wine_log_columns] + 0.001)\n",
    "log_white_wine_df[white_wine_log_columns] = np.log(log_white_wine_df[white_wine_log_columns]+ 0.001)\n",
    "\n",
    "log_red_wine_df.wine_type = \"Red Wine(Log)\"\n",
    "log_white_wine_df.wine_type = \"White Wine(Log)\""
   ]
  },
  {
   "cell_type": "code",
   "execution_count": null,
   "metadata": {},
   "outputs": [],
   "source": [
    "log_dfs = [log_red_wine_df, log_white_wine_df]\n",
    "\n",
    "create_plots(create_qq_plot, log_dfs)\n",
    "create_plots(calculate_skewness_coefficient, log_dfs)"
   ]
  },
  {
   "cell_type": "markdown",
   "metadata": {},
   "source": [
    "Observations based on the first log transformation:\n",
    "1. **Red Wine (Original vs Log-Transformed):**\n",
    "   - Original: `Residual sugar` 4.54, `Chlorides` 5.68.\n",
    "   - Log-Transformed: `Residual sugar` 1.81, `Chlorides` 1.79.\n",
    "   - `Free sulfur dioxide` changed from positive (1.25) to slightly negative skewness (-0.23).\n",
    "\n",
    "2. **White Wine (Original vs Log-Transformed):**\n",
    "   - Original: `Volatile acidity` 1.58, `Citric acid` 1.28.\n",
    "   - Log-Transformed: `Volatile acidity` 0.14, `Citric acid` -5.56 (over-correction).\n",
    "   - `Residual sugar` reduced from 1.08 to -0.16, `Chlorides` from 5.02 to 1.19.\n",
    "\n",
    "3. **Minimal Impact on Some Variables:**\n",
    "   - `Alcohol` and `quality` in both Red and White wines showed minimal changes (around 0.86 and 0.22 respectively).\n",
    "\n",
    "4. **Avoid Log Transformation For:**\n",
    "   - Red Wine: `Free sulfur dioxide` and `Total sulfur dioxide`.\n",
    "   - White Wine: `Citric acid` and `Residual sugar` ."
   ]
  },
  {
   "cell_type": "code",
   "execution_count": null,
   "metadata": {},
   "outputs": [],
   "source": [
    "white_wine_update_log_columns = [\n",
    "    'chlorides',\n",
    "    'volatile acidity'\n",
    "]\n",
    "red_wine_update_log_columns = [\n",
    "    'residual sugar',\n",
    "    'chlorides'\n",
    "]\n",
    "\n",
    "log_red_update_wine_df = df_red_wine.copy()\n",
    "log_white_update_wine_df = df_white_wine.copy()\n",
    "\n",
    "log_red_update_wine_df[red_wine_update_log_columns] = np.log(log_red_update_wine_df[red_wine_update_log_columns] + 0.001)\n",
    "log_white_update_wine_df[white_wine_update_log_columns] = np.log(log_white_update_wine_df[white_wine_update_log_columns]+ 0.001)\n",
    "\n",
    "log_red_update_wine_df.wine_type = \"Red Wine(Second Log)\"\n",
    "log_white_update_wine_df.wine_type = \"White Wine(Second Log)\"\n",
    "\n",
    "log_update_dfs = [log_white_update_wine_df, log_red_update_wine_df]\n",
    "\n",
    "create_plots(create_qq_plot, log_update_dfs)\n",
    "create_plots(calculate_skewness_coefficient, log_update_dfs)"
   ]
  },
  {
   "cell_type": "markdown",
   "metadata": {},
   "source": [
    "Observations:\n",
    "\n",
    "1. **White Wine:**\n",
    "   - Log transformation significantly reduced skewness in `volatile acidity` (from 1.58 to 0.14) and `chlorides` (from 5.02 to 1.19).\n",
    "2. **Red Wine:**\n",
    "   - Effective reduction in skewness for `residual sugar` (from 4.54 to 1.81) and `chlorides` (from 5.68 to 1.79).\n",
    "3. **Conclusion:**\n",
    "   - The second log transformation was successful in reducing high skewness for key variables in both Red and White Wine datasets.\n"
   ]
  },
  {
   "cell_type": "markdown",
   "metadata": {},
   "source": [
    "### 3.3 Clean Data"
   ]
  },
  {
   "cell_type": "markdown",
   "metadata": {},
   "source": [
    "#### 3.3.1 Check for missing values"
   ]
  },
  {
   "cell_type": "markdown",
   "metadata": {},
   "source": [
    "We are going to check if there are empty values."
   ]
  },
  {
   "cell_type": "code",
   "execution_count": null,
   "metadata": {},
   "outputs": [],
   "source": [
    "def check_na(wine_type_df):\n",
    "    print(f'{get_wine_str(wine_type_df)}')\n",
    "    print(wine_type_df.info())\n",
    "    print(wine_type_df.isnull().sum())\n",
    "\n",
    "create_plots(check_na, log_update_dfs)"
   ]
  },
  {
   "cell_type": "markdown",
   "metadata": {},
   "source": [
    "**Observations from Checking Missing Values:**\n",
    "1. There are no missing data in either dataset.\n",
    "2. All feature columns are of the float type, and the target column is an integer."
   ]
  },
  {
   "cell_type": "markdown",
   "metadata": {},
   "source": [
    "#### 3.3.2 Outlier Analysis"
   ]
  },
  {
   "cell_type": "markdown",
   "metadata": {},
   "source": [
    "We will create box plots to understand the outliers."
   ]
  },
  {
   "cell_type": "code",
   "execution_count": null,
   "metadata": {},
   "outputs": [],
   "source": [
    "def create_box_plot(wine_type_df):\n",
    "    feature_columns = wine_type_df.drop(columns=['quality']).columns.tolist()\n",
    "    fig, axs = plt.subplots(3, 4, figsize=(20, 15))  \n",
    "\n",
    "    # Flatten the array of axes to make it easier to iterate over\n",
    "    axs = axs.flatten()\n",
    "\n",
    "    for i, column in enumerate(feature_columns): \n",
    "        sns.boxplot(x='quality', y=column, data=wine_type_df, ax=axs[i], legend=False, color = \"grey\")\n",
    "        plt.xticks(fontsize=14) \n",
    "        plt.yticks(fontsize=14)\n",
    "\n",
    "    fig.suptitle(f'Box Plots for {get_wine_str(wine_type_df)}', fontsize=20, weight='bold')\n",
    "    plt.show()"
   ]
  },
  {
   "cell_type": "code",
   "execution_count": null,
   "metadata": {},
   "outputs": [],
   "source": [
    "create_plots(create_box_plot, log_update_dfs)"
   ]
  },
  {
   "cell_type": "markdown",
   "metadata": {},
   "source": [
    "**Observations from Box Plots**\n",
    "1. It's hard to decide should we delete outliers or not based on these plots. \n",
    "2. We are going to develop separate QQ plots for wines classified into different quality categories: bad(3-4), middle(5-6-7), and good(8-9) to better understand our outliers."
   ]
  },
  {
   "cell_type": "code",
   "execution_count": 128,
   "metadata": {},
   "outputs": [],
   "source": [
    "bin_edges = [2, 5, 10]\n",
    "bin_labels = ['poor', 'good']\n",
    "\n",
    "red_wine_quality_df = log_red_update_wine_df.copy()\n",
    "white_wine_quality_df = log_white_update_wine_df.copy()\n",
    "\n",
    "red_wine_quality_df['quality_category'] = pd.cut(red_wine_quality_df['quality'], bins=bin_edges, labels=bin_labels)\n",
    "white_wine_quality_df['quality_category'] = pd.cut(white_wine_quality_df['quality'], bins=bin_edges, labels=bin_labels)\n"
   ]
  },
  {
   "cell_type": "code",
   "execution_count": 129,
   "metadata": {},
   "outputs": [],
   "source": [
    "df_red_poor = red_wine_quality_df[red_wine_quality_df['quality_category'] == 'poor']\n",
    "df_red_good = red_wine_quality_df[red_wine_quality_df['quality_category'] == 'good']\n",
    "\n",
    "df_white_poor = white_wine_quality_df[white_wine_quality_df['quality_category'] == 'poor']\n",
    "df_white_good = white_wine_quality_df[white_wine_quality_df['quality_category'] == 'good']\n",
    "\n",
    "\n",
    "wine_quality_dfs = [\n",
    "    df_white_poor,\n",
    "    df_white_good,\n",
    "    df_red_poor,\n",
    "    df_red_good\n",
    "]\n"
   ]
  },
  {
   "cell_type": "code",
   "execution_count": 130,
   "metadata": {},
   "outputs": [],
   "source": [
    "df_white_poor.wine_type = 'White Wine Poor'\n",
    "df_white_good.wine_type = 'White Wine Good'\n",
    "df_red_poor.wine_type = 'Red Wine Poor'\n",
    "df_red_good.wine_type = 'Red Wine Good'"
   ]
  },
  {
   "cell_type": "code",
   "execution_count": null,
   "metadata": {},
   "outputs": [],
   "source": [
    "create_plots(create_qq_plot, wine_quality_dfs)"
   ]
  },
  {
   "cell_type": "markdown",
   "metadata": {},
   "source": [
    "To understand distribution asymmetries, we use skewness coefficient to identify which variables deviate from normality."
   ]
  },
  {
   "cell_type": "code",
   "execution_count": null,
   "metadata": {},
   "outputs": [],
   "source": [
    "create_plots(calculate_skewness_coefficient, wine_quality_dfs)"
   ]
  },
  {
   "cell_type": "markdown",
   "metadata": {},
   "source": [
    "To pinpoint extreme outliers, we use a a threshold of Z-score > 6 to focuse on the most anomalous data points in the wine quality dataset."
   ]
  },
  {
   "cell_type": "code",
   "execution_count": 131,
   "metadata": {},
   "outputs": [],
   "source": [
    "def calculate_z_score(wine_type_df):\n",
    "    z_scores_df = wine_type_df.copy()\n",
    "\n",
    "    print(f\"\\nZ Score of {get_wine_str(wine_type_df)}:\\n\")\n",
    "\n",
    "    for col in wine_type_df.columns:\n",
    "        if col != 'quality' and col != 'quality_category':\n",
    "            z_scores_df[col + ' Z-score'] = zscore(wine_type_df[col])\n",
    "            \n",
    "            outliers = abs(z_scores_df[col + ' Z-score']) > 6\n",
    "            outlier_count = outliers.sum()\n",
    "            print(f\"Outliers in {col}: {outlier_count}\")\n",
    "\n",
    "            if outlier_count > 0:\n",
    "                print(f\"Outlier data for {col}:\\n{wine_type_df[outliers]}\")\n",
    "                print(\"\\n\") "
   ]
  },
  {
   "cell_type": "code",
   "execution_count": 132,
   "metadata": {},
   "outputs": [
    {
     "name": "stdout",
     "output_type": "stream",
     "text": [
      "\n",
      "Z Score of White Wine Poor:\n",
      "\n",
      "Outliers in fixed acidity: 0\n",
      "Outliers in volatile acidity: 0\n",
      "Outliers in citric acid: 0\n",
      "Outliers in residual sugar: 0\n",
      "Outliers in chlorides: 0\n",
      "Outliers in free sulfur dioxide: 1\n",
      "Outlier data for free sulfur dioxide:\n",
      "      fixed acidity  volatile acidity  citric acid  residual sugar  chlorides   \n",
      "4745            6.1         -1.343235         0.25             2.9  -3.036554  \\\n",
      "\n",
      "      free sulfur dioxide  total sulfur dioxide  density    pH  sulphates   \n",
      "4745                289.0                 440.0  0.99314  3.44       0.64  \\\n",
      "\n",
      "      alcohol  quality quality_category  \n",
      "4745     10.5        3             poor  \n",
      "\n",
      "\n",
      "Outliers in total sulfur dioxide: 1\n",
      "Outlier data for total sulfur dioxide:\n",
      "      fixed acidity  volatile acidity  citric acid  residual sugar  chlorides   \n",
      "4745            6.1         -1.343235         0.25             2.9  -3.036554  \\\n",
      "\n",
      "      free sulfur dioxide  total sulfur dioxide  density    pH  sulphates   \n",
      "4745                289.0                 440.0  0.99314  3.44       0.64  \\\n",
      "\n",
      "      alcohol  quality quality_category  \n",
      "4745     10.5        3             poor  \n",
      "\n",
      "\n",
      "Outliers in density: 0\n",
      "Outliers in pH: 0\n",
      "Outliers in sulphates: 0\n",
      "Outliers in alcohol: 0\n",
      "\n",
      "Z Score of White Wine Good:\n",
      "\n",
      "Outliers in fixed acidity: 1\n",
      "Outlier data for fixed acidity:\n",
      "      fixed acidity  volatile acidity  citric acid  residual sugar  chlorides   \n",
      "1526           14.2         -1.305636         0.49             1.1  -3.270169  \\\n",
      "\n",
      "      free sulfur dioxide  total sulfur dioxide  density    pH  sulphates   \n",
      "1526                 33.0                 156.0    0.992  3.15       0.54  \\\n",
      "\n",
      "      alcohol  quality quality_category  \n",
      "1526     11.1        6             good  \n",
      "\n",
      "\n",
      "Outliers in volatile acidity: 0\n",
      "Outliers in citric acid: 7\n",
      "Outlier data for citric acid:\n",
      "      fixed acidity  volatile acidity  citric acid  residual sugar  chlorides   \n",
      "745             7.4         -1.604450         1.66            2.10  -3.772261  \\\n",
      "1551            6.6         -1.655482         0.99            1.20  -2.095571   \n",
      "1722            7.5         -0.913794         1.00           19.50  -3.170086   \n",
      "1775            7.7         -0.711311         1.00           19.60  -3.473768   \n",
      "3043            7.2         -1.555897         1.00            1.10  -1.864330   \n",
      "3152            7.6         -1.382302         1.23            4.60  -3.324236   \n",
      "3497            7.7         -0.841647         1.00           19.95  -3.411248   \n",
      "\n",
      "      free sulfur dioxide  total sulfur dioxide  density    pH  sulphates   \n",
      "745                  34.0                 113.0  0.99165  3.26       0.55  \\\n",
      "1551                 45.0                 129.0  0.99360  3.09       0.31   \n",
      "1722                 33.0                 148.0  0.99770  3.24       0.38   \n",
      "1775                 28.0                 135.0  0.99730  3.24       0.40   \n",
      "3043                 46.0                 114.0  0.99310  2.95       0.43   \n",
      "3152                 51.0                 294.0  0.99018  3.03       0.43   \n",
      "3497                 42.0                 164.0  0.99742  3.29       0.50   \n",
      "\n",
      "      alcohol  quality quality_category  \n",
      "745      12.2        6             good  \n",
      "1551      8.7        6             good  \n",
      "1722     12.0        6             good  \n",
      "1775     12.0        6             good  \n",
      "3043      9.2        6             good  \n",
      "3152     13.1        6             good  \n",
      "3497     12.0        6             good  \n",
      "\n",
      "\n",
      "Outliers in residual sugar: 1\n",
      "Outlier data for residual sugar:\n",
      "      fixed acidity  volatile acidity  citric acid  residual sugar  chlorides   \n",
      "2781            7.8         -0.034591          0.6            65.8  -2.590267  \\\n",
      "\n",
      "      free sulfur dioxide  total sulfur dioxide  density    pH  sulphates   \n",
      "2781                  8.0                 160.0  1.03898  3.39       0.69  \\\n",
      "\n",
      "      alcohol  quality quality_category  \n",
      "2781     11.7        6             good  \n",
      "\n",
      "\n",
      "Outliers in chlorides: 0\n",
      "Outliers in free sulfur dioxide: 0\n",
      "Outliers in total sulfur dioxide: 0\n",
      "Outliers in density: 1\n",
      "Outlier data for density:\n",
      "      fixed acidity  volatile acidity  citric acid  residual sugar  chlorides   \n",
      "2781            7.8         -0.034591          0.6            65.8  -2.590267  \\\n",
      "\n",
      "      free sulfur dioxide  total sulfur dioxide  density    pH  sulphates   \n",
      "2781                  8.0                 160.0  1.03898  3.39       0.69  \\\n",
      "\n",
      "      alcohol  quality quality_category  \n",
      "2781     11.7        6             good  \n",
      "\n",
      "\n",
      "Outliers in pH: 0\n",
      "Outliers in sulphates: 0\n",
      "Outliers in alcohol: 0\n",
      "\n",
      "Z Score of Red Wine Poor:\n",
      "\n",
      "Outliers in fixed acidity: 0\n",
      "Outliers in volatile acidity: 0\n",
      "Outliers in citric acid: 0\n",
      "Outliers in residual sugar: 0\n",
      "Outliers in chlorides: 0\n",
      "Outliers in free sulfur dioxide: 0\n",
      "Outliers in total sulfur dioxide: 0\n",
      "Outliers in density: 0\n",
      "Outliers in pH: 0\n",
      "Outliers in sulphates: 2\n",
      "Outlier data for sulphates:\n",
      "     fixed acidity  volatile acidity  citric acid  residual sugar  chlorides   \n",
      "92             8.6              0.49         0.29        0.693647  -2.198225  \\\n",
      "151            9.2              0.52         1.00        1.224070  -0.492658   \n",
      "\n",
      "     free sulfur dioxide  total sulfur dioxide  density    pH  sulphates   \n",
      "92                  19.0                 133.0   0.9972  2.93       1.98  \\\n",
      "151                 32.0                  69.0   0.9996  2.74       2.00   \n",
      "\n",
      "     alcohol  quality quality_category  \n",
      "92       9.8        5             poor  \n",
      "151      9.4        4             poor  \n",
      "\n",
      "\n",
      "Outliers in alcohol: 1\n",
      "Outlier data for alcohol:\n",
      "     fixed acidity  volatile acidity  citric acid  residual sugar  chlorides   \n",
      "652           15.9              0.36         0.65        2.015036  -2.333044  \\\n",
      "\n",
      "     free sulfur dioxide  total sulfur dioxide  density    pH  sulphates   \n",
      "652                 22.0                  71.0   0.9976  2.98       0.84  \\\n",
      "\n",
      "     alcohol  quality quality_category  \n",
      "652     14.9        5             poor  \n",
      "\n",
      "\n",
      "\n",
      "Z Score of Red Wine Good:\n",
      "\n",
      "Outliers in fixed acidity: 0\n",
      "Outliers in volatile acidity: 0\n",
      "Outliers in citric acid: 0\n",
      "Outliers in residual sugar: 0\n",
      "Outliers in chlorides: 0\n",
      "Outliers in free sulfur dioxide: 0\n",
      "Outliers in total sulfur dioxide: 2\n",
      "Outlier data for total sulfur dioxide:\n",
      "      fixed acidity  volatile acidity  citric acid  residual sugar  chlorides   \n",
      "1079            7.9               0.3         0.68        2.116376   -2.97593  \\\n",
      "1081            7.9               0.3         0.68        2.116376   -2.97593   \n",
      "\n",
      "      free sulfur dioxide  total sulfur dioxide  density    pH  sulphates   \n",
      "1079                 37.5                 278.0  0.99316  3.01       0.51  \\\n",
      "1081                 37.5                 289.0  0.99316  3.01       0.51   \n",
      "\n",
      "      alcohol  quality quality_category  \n",
      "1079     12.3        7             good  \n",
      "1081     12.3        7             good  \n",
      "\n",
      "\n",
      "Outliers in density: 0\n",
      "Outliers in pH: 0\n",
      "Outliers in sulphates: 2\n",
      "Outlier data for sulphates:\n",
      "    fixed acidity  volatile acidity  citric acid  residual sugar  chlorides   \n",
      "86            8.6              0.49         0.28         0.64238  -2.198225  \\\n",
      "91            8.6              0.49         0.28         0.64238  -2.198225   \n",
      "\n",
      "    free sulfur dioxide  total sulfur dioxide  density    pH  sulphates   \n",
      "86                 20.0                 136.0   0.9972  2.93       1.95  \\\n",
      "91                 20.0                 136.0   0.9972  2.93       1.95   \n",
      "\n",
      "    alcohol  quality quality_category  \n",
      "86      9.9        6             good  \n",
      "91      9.9        6             good  \n",
      "\n",
      "\n",
      "Outliers in alcohol: 0\n"
     ]
    }
   ],
   "source": [
    "create_plots(calculate_z_score, wine_quality_dfs)"
   ]
  },
  {
   "cell_type": "markdown",
   "metadata": {},
   "source": [
    "**Observations from Skewness Coefficients and Z-Score Analysis**\n",
    "\n",
    "### White Wine:\n",
    "- **Poor Quality White Wine:**\n",
    "  - Notable skewness in `chlorides` (1.51) and `free sulfur dioxide` (1.85).\n",
    "  - Outliers are mainly in `free sulfur dioxide` and `total sulfur dioxide`.\n",
    "- **Good Quality White Wine:**\n",
    "  - Higher skewness in `citric acid` (1.94) and `density` (1.53).\n",
    "  - Outliers are present in several attributes, notably in `citric acid` (7 outliers) and `density` (1 outlier).\n",
    "\n",
    "### Red Wine:\n",
    "- **Poor Quality Red Wine:**\n",
    "  - Considerable skewness in `chlorides` (2.51) and `sulphates` (3.08).\n",
    "  - Outliers are observed in `sulphates` (2) and `alcohol` (1).\n",
    "- **Good Quality Red Wine:**\n",
    "  - Skewness is pronounced in `total sulfur dioxide` (2.64) and `sulphates` (2.18).\n",
    "  - Outliers are mainly in `total sulfur dioxide` (2) and `sulphates` (2)."
   ]
  },
  {
   "cell_type": "code",
   "execution_count": 137,
   "metadata": {},
   "outputs": [],
   "source": [
    "def delete_outliers(wine_type_df):\n",
    "    without_outliers_df = wine_type_df.copy()\n",
    "    z_score_df = wine_type_df.copy()\n",
    "\n",
    "    for col in without_outliers_df.columns:\n",
    "        if col != 'quality' and col != 'quality_category':\n",
    "            z_score_df[col + '_Z_score'] = zscore(without_outliers_df[col])\n",
    "            #print(z_score_df.head(5))\n",
    "\n",
    "            for col in z_score_df.columns:\n",
    "                if '_Z_score' in col:\n",
    "                    if np.abs(z_score_df[[col + '_Z_score' ]]) <= 6:\n",
    "                        print(z_score_df[col])\n",
    "\n",
    "    return wine_type_df\n"
   ]
  },
  {
   "cell_type": "code",
   "execution_count": 138,
   "metadata": {},
   "outputs": [
    {
     "ename": "KeyError",
     "evalue": "\"None of [Index(['fixed acidity_Z_score_Z_score'], dtype='object')] are in the [columns]\"",
     "output_type": "error",
     "traceback": [
      "\u001b[0;31m---------------------------------------------------------------------------\u001b[0m",
      "\u001b[0;31mKeyError\u001b[0m                                  Traceback (most recent call last)",
      "Cell \u001b[0;32mIn[138], line 2\u001b[0m\n\u001b[1;32m      1\u001b[0m test_1 \u001b[39m=\u001b[39m df_white_good\u001b[39m.\u001b[39mcopy()\n\u001b[0;32m----> 2\u001b[0m test_2 \u001b[39m=\u001b[39m delete_outliers(test_1)\n\u001b[1;32m      4\u001b[0m test_2\n",
      "Cell \u001b[0;32mIn[137], line 12\u001b[0m, in \u001b[0;36mdelete_outliers\u001b[0;34m(wine_type_df)\u001b[0m\n\u001b[1;32m     10\u001b[0m         \u001b[39mfor\u001b[39;00m col \u001b[39min\u001b[39;00m z_score_df\u001b[39m.\u001b[39mcolumns:\n\u001b[1;32m     11\u001b[0m             \u001b[39mif\u001b[39;00m \u001b[39m'\u001b[39m\u001b[39m_Z_score\u001b[39m\u001b[39m'\u001b[39m \u001b[39min\u001b[39;00m col:\n\u001b[0;32m---> 12\u001b[0m                 \u001b[39mif\u001b[39;00m np\u001b[39m.\u001b[39mabs(z_score_df[[col \u001b[39m+\u001b[39;49m \u001b[39m'\u001b[39;49m\u001b[39m_Z_score\u001b[39;49m\u001b[39m'\u001b[39;49m ]]) \u001b[39m<\u001b[39m\u001b[39m=\u001b[39m \u001b[39m6\u001b[39m:\n\u001b[1;32m     13\u001b[0m                     \u001b[39mprint\u001b[39m(z_score_df[col])\n\u001b[1;32m     15\u001b[0m \u001b[39mreturn\u001b[39;00m wine_type_df\n",
      "File \u001b[0;32m/usr/local/lib/python3.11/site-packages/pandas/core/frame.py:3766\u001b[0m, in \u001b[0;36mDataFrame.__getitem__\u001b[0;34m(self, key)\u001b[0m\n\u001b[1;32m   3764\u001b[0m     \u001b[39mif\u001b[39;00m is_iterator(key):\n\u001b[1;32m   3765\u001b[0m         key \u001b[39m=\u001b[39m \u001b[39mlist\u001b[39m(key)\n\u001b[0;32m-> 3766\u001b[0m     indexer \u001b[39m=\u001b[39m \u001b[39mself\u001b[39;49m\u001b[39m.\u001b[39;49mcolumns\u001b[39m.\u001b[39;49m_get_indexer_strict(key, \u001b[39m\"\u001b[39;49m\u001b[39mcolumns\u001b[39;49m\u001b[39m\"\u001b[39;49m)[\u001b[39m1\u001b[39m]\n\u001b[1;32m   3768\u001b[0m \u001b[39m# take() does not accept boolean indexers\u001b[39;00m\n\u001b[1;32m   3769\u001b[0m \u001b[39mif\u001b[39;00m \u001b[39mgetattr\u001b[39m(indexer, \u001b[39m\"\u001b[39m\u001b[39mdtype\u001b[39m\u001b[39m\"\u001b[39m, \u001b[39mNone\u001b[39;00m) \u001b[39m==\u001b[39m \u001b[39mbool\u001b[39m:\n",
      "File \u001b[0;32m/usr/local/lib/python3.11/site-packages/pandas/core/indexes/base.py:5876\u001b[0m, in \u001b[0;36mIndex._get_indexer_strict\u001b[0;34m(self, key, axis_name)\u001b[0m\n\u001b[1;32m   5873\u001b[0m \u001b[39melse\u001b[39;00m:\n\u001b[1;32m   5874\u001b[0m     keyarr, indexer, new_indexer \u001b[39m=\u001b[39m \u001b[39mself\u001b[39m\u001b[39m.\u001b[39m_reindex_non_unique(keyarr)\n\u001b[0;32m-> 5876\u001b[0m \u001b[39mself\u001b[39;49m\u001b[39m.\u001b[39;49m_raise_if_missing(keyarr, indexer, axis_name)\n\u001b[1;32m   5878\u001b[0m keyarr \u001b[39m=\u001b[39m \u001b[39mself\u001b[39m\u001b[39m.\u001b[39mtake(indexer)\n\u001b[1;32m   5879\u001b[0m \u001b[39mif\u001b[39;00m \u001b[39misinstance\u001b[39m(key, Index):\n\u001b[1;32m   5880\u001b[0m     \u001b[39m# GH 42790 - Preserve name from an Index\u001b[39;00m\n",
      "File \u001b[0;32m/usr/local/lib/python3.11/site-packages/pandas/core/indexes/base.py:5935\u001b[0m, in \u001b[0;36mIndex._raise_if_missing\u001b[0;34m(self, key, indexer, axis_name)\u001b[0m\n\u001b[1;32m   5933\u001b[0m     \u001b[39mif\u001b[39;00m use_interval_msg:\n\u001b[1;32m   5934\u001b[0m         key \u001b[39m=\u001b[39m \u001b[39mlist\u001b[39m(key)\n\u001b[0;32m-> 5935\u001b[0m     \u001b[39mraise\u001b[39;00m \u001b[39mKeyError\u001b[39;00m(\u001b[39mf\u001b[39m\u001b[39m\"\u001b[39m\u001b[39mNone of [\u001b[39m\u001b[39m{\u001b[39;00mkey\u001b[39m}\u001b[39;00m\u001b[39m] are in the [\u001b[39m\u001b[39m{\u001b[39;00maxis_name\u001b[39m}\u001b[39;00m\u001b[39m]\u001b[39m\u001b[39m\"\u001b[39m)\n\u001b[1;32m   5937\u001b[0m not_found \u001b[39m=\u001b[39m \u001b[39mlist\u001b[39m(ensure_index(key)[missing_mask\u001b[39m.\u001b[39mnonzero()[\u001b[39m0\u001b[39m]]\u001b[39m.\u001b[39munique())\n\u001b[1;32m   5938\u001b[0m \u001b[39mraise\u001b[39;00m \u001b[39mKeyError\u001b[39;00m(\u001b[39mf\u001b[39m\u001b[39m\"\u001b[39m\u001b[39m{\u001b[39;00mnot_found\u001b[39m}\u001b[39;00m\u001b[39m not in index\u001b[39m\u001b[39m\"\u001b[39m)\n",
      "\u001b[0;31mKeyError\u001b[0m: \"None of [Index(['fixed acidity_Z_score_Z_score'], dtype='object')] are in the [columns]\""
     ]
    }
   ],
   "source": [
    "test_1 = df_white_good.copy()\n",
    "test_2 = delete_outliers(test_1)\n",
    "\n",
    "test_2"
   ]
  },
  {
   "cell_type": "code",
   "execution_count": 111,
   "metadata": {},
   "outputs": [
    {
     "ename": "UFuncTypeError",
     "evalue": "ufunc 'add' did not contain a loop with signature matching types (dtype('float64'), dtype('<U20')) -> None",
     "output_type": "error",
     "traceback": [
      "\u001b[0;31m---------------------------------------------------------------------------\u001b[0m",
      "\u001b[0;31mUFuncTypeError\u001b[0m                            Traceback (most recent call last)",
      "Cell \u001b[0;32mIn[111], line 4\u001b[0m\n\u001b[1;32m      1\u001b[0m wine_quality_without_outliers_df \u001b[39m=\u001b[39m []\n\u001b[1;32m      3\u001b[0m \u001b[39mfor\u001b[39;00m wine_df \u001b[39min\u001b[39;00m wine_quality_dfs:\n\u001b[0;32m----> 4\u001b[0m     new_name \u001b[39m=\u001b[39m wine_df \u001b[39m+\u001b[39;49m\u001b[39m'\u001b[39;49m\u001b[39m_without_outliers_df\u001b[39;49m\u001b[39m'\u001b[39;49m\n\u001b[1;32m      5\u001b[0m     \u001b[39mprint\u001b[39m(new_name)\n",
      "File \u001b[0;32m/usr/local/lib/python3.11/site-packages/pandas/core/ops/common.py:81\u001b[0m, in \u001b[0;36m_unpack_zerodim_and_defer.<locals>.new_method\u001b[0;34m(self, other)\u001b[0m\n\u001b[1;32m     77\u001b[0m             \u001b[39mreturn\u001b[39;00m \u001b[39mNotImplemented\u001b[39m\n\u001b[1;32m     79\u001b[0m other \u001b[39m=\u001b[39m item_from_zerodim(other)\n\u001b[0;32m---> 81\u001b[0m \u001b[39mreturn\u001b[39;00m method(\u001b[39mself\u001b[39;49m, other)\n",
      "File \u001b[0;32m/usr/local/lib/python3.11/site-packages/pandas/core/arraylike.py:186\u001b[0m, in \u001b[0;36mOpsMixin.__add__\u001b[0;34m(self, other)\u001b[0m\n\u001b[1;32m     98\u001b[0m \u001b[39m@unpack_zerodim_and_defer\u001b[39m(\u001b[39m\"\u001b[39m\u001b[39m__add__\u001b[39m\u001b[39m\"\u001b[39m)\n\u001b[1;32m     99\u001b[0m \u001b[39mdef\u001b[39;00m \u001b[39m__add__\u001b[39m(\u001b[39mself\u001b[39m, other):\n\u001b[1;32m    100\u001b[0m \u001b[39m    \u001b[39m\u001b[39m\"\"\"\u001b[39;00m\n\u001b[1;32m    101\u001b[0m \u001b[39m    Get Addition of DataFrame and other, column-wise.\u001b[39;00m\n\u001b[1;32m    102\u001b[0m \n\u001b[0;32m   (...)\u001b[0m\n\u001b[1;32m    184\u001b[0m \u001b[39m    moose     3.0     NaN\u001b[39;00m\n\u001b[1;32m    185\u001b[0m \u001b[39m    \"\"\"\u001b[39;00m\n\u001b[0;32m--> 186\u001b[0m     \u001b[39mreturn\u001b[39;00m \u001b[39mself\u001b[39;49m\u001b[39m.\u001b[39;49m_arith_method(other, operator\u001b[39m.\u001b[39;49madd)\n",
      "File \u001b[0;32m/usr/local/lib/python3.11/site-packages/pandas/core/frame.py:7461\u001b[0m, in \u001b[0;36mDataFrame._arith_method\u001b[0;34m(self, other, op)\u001b[0m\n\u001b[1;32m   7457\u001b[0m other \u001b[39m=\u001b[39m ops\u001b[39m.\u001b[39mmaybe_prepare_scalar_for_op(other, (\u001b[39mself\u001b[39m\u001b[39m.\u001b[39mshape[axis],))\n\u001b[1;32m   7459\u001b[0m \u001b[39mself\u001b[39m, other \u001b[39m=\u001b[39m ops\u001b[39m.\u001b[39malign_method_FRAME(\u001b[39mself\u001b[39m, other, axis, flex\u001b[39m=\u001b[39m\u001b[39mTrue\u001b[39;00m, level\u001b[39m=\u001b[39m\u001b[39mNone\u001b[39;00m)\n\u001b[0;32m-> 7461\u001b[0m new_data \u001b[39m=\u001b[39m \u001b[39mself\u001b[39;49m\u001b[39m.\u001b[39;49m_dispatch_frame_op(other, op, axis\u001b[39m=\u001b[39;49maxis)\n\u001b[1;32m   7462\u001b[0m \u001b[39mreturn\u001b[39;00m \u001b[39mself\u001b[39m\u001b[39m.\u001b[39m_construct_result(new_data)\n",
      "File \u001b[0;32m/usr/local/lib/python3.11/site-packages/pandas/core/frame.py:7488\u001b[0m, in \u001b[0;36mDataFrame._dispatch_frame_op\u001b[0;34m(self, right, func, axis)\u001b[0m\n\u001b[1;32m   7485\u001b[0m \u001b[39mif\u001b[39;00m \u001b[39mnot\u001b[39;00m is_list_like(right):\n\u001b[1;32m   7486\u001b[0m     \u001b[39m# i.e. scalar, faster than checking np.ndim(right) == 0\u001b[39;00m\n\u001b[1;32m   7487\u001b[0m     \u001b[39mwith\u001b[39;00m np\u001b[39m.\u001b[39merrstate(\u001b[39mall\u001b[39m\u001b[39m=\u001b[39m\u001b[39m\"\u001b[39m\u001b[39mignore\u001b[39m\u001b[39m\"\u001b[39m):\n\u001b[0;32m-> 7488\u001b[0m         bm \u001b[39m=\u001b[39m \u001b[39mself\u001b[39;49m\u001b[39m.\u001b[39;49m_mgr\u001b[39m.\u001b[39;49mapply(array_op, right\u001b[39m=\u001b[39;49mright)\n\u001b[1;32m   7489\u001b[0m     \u001b[39mreturn\u001b[39;00m \u001b[39mself\u001b[39m\u001b[39m.\u001b[39m_constructor(bm)\n\u001b[1;32m   7491\u001b[0m \u001b[39melif\u001b[39;00m \u001b[39misinstance\u001b[39m(right, DataFrame):\n",
      "File \u001b[0;32m/usr/local/lib/python3.11/site-packages/pandas/core/internals/managers.py:350\u001b[0m, in \u001b[0;36mBaseBlockManager.apply\u001b[0;34m(self, f, align_keys, **kwargs)\u001b[0m\n\u001b[1;32m    347\u001b[0m             kwargs[k] \u001b[39m=\u001b[39m obj[b\u001b[39m.\u001b[39mmgr_locs\u001b[39m.\u001b[39mindexer]\n\u001b[1;32m    349\u001b[0m \u001b[39mif\u001b[39;00m \u001b[39mcallable\u001b[39m(f):\n\u001b[0;32m--> 350\u001b[0m     applied \u001b[39m=\u001b[39m b\u001b[39m.\u001b[39;49mapply(f, \u001b[39m*\u001b[39;49m\u001b[39m*\u001b[39;49mkwargs)\n\u001b[1;32m    351\u001b[0m \u001b[39melse\u001b[39;00m:\n\u001b[1;32m    352\u001b[0m     applied \u001b[39m=\u001b[39m \u001b[39mgetattr\u001b[39m(b, f)(\u001b[39m*\u001b[39m\u001b[39m*\u001b[39mkwargs)\n",
      "File \u001b[0;32m/usr/local/lib/python3.11/site-packages/pandas/core/internals/blocks.py:329\u001b[0m, in \u001b[0;36mBlock.apply\u001b[0;34m(self, func, **kwargs)\u001b[0m\n\u001b[1;32m    323\u001b[0m \u001b[39m@final\u001b[39m\n\u001b[1;32m    324\u001b[0m \u001b[39mdef\u001b[39;00m \u001b[39mapply\u001b[39m(\u001b[39mself\u001b[39m, func, \u001b[39m*\u001b[39m\u001b[39m*\u001b[39mkwargs) \u001b[39m-\u001b[39m\u001b[39m>\u001b[39m \u001b[39mlist\u001b[39m[Block]:\n\u001b[1;32m    325\u001b[0m \u001b[39m    \u001b[39m\u001b[39m\"\"\"\u001b[39;00m\n\u001b[1;32m    326\u001b[0m \u001b[39m    apply the function to my values; return a block if we are not\u001b[39;00m\n\u001b[1;32m    327\u001b[0m \u001b[39m    one\u001b[39;00m\n\u001b[1;32m    328\u001b[0m \u001b[39m    \"\"\"\u001b[39;00m\n\u001b[0;32m--> 329\u001b[0m     result \u001b[39m=\u001b[39m func(\u001b[39mself\u001b[39;49m\u001b[39m.\u001b[39;49mvalues, \u001b[39m*\u001b[39;49m\u001b[39m*\u001b[39;49mkwargs)\n\u001b[1;32m    331\u001b[0m     \u001b[39mreturn\u001b[39;00m \u001b[39mself\u001b[39m\u001b[39m.\u001b[39m_split_op_result(result)\n",
      "File \u001b[0;32m/usr/local/lib/python3.11/site-packages/pandas/core/ops/array_ops.py:225\u001b[0m, in \u001b[0;36marithmetic_op\u001b[0;34m(left, right, op)\u001b[0m\n\u001b[1;32m    221\u001b[0m     _bool_arith_check(op, left, right)\n\u001b[1;32m    223\u001b[0m     \u001b[39m# error: Argument 1 to \"_na_arithmetic_op\" has incompatible type\u001b[39;00m\n\u001b[1;32m    224\u001b[0m     \u001b[39m# \"Union[ExtensionArray, ndarray[Any, Any]]\"; expected \"ndarray[Any, Any]\"\u001b[39;00m\n\u001b[0;32m--> 225\u001b[0m     res_values \u001b[39m=\u001b[39m _na_arithmetic_op(left, right, op)  \u001b[39m# type: ignore[arg-type]\u001b[39;00m\n\u001b[1;32m    227\u001b[0m \u001b[39mreturn\u001b[39;00m res_values\n",
      "File \u001b[0;32m/usr/local/lib/python3.11/site-packages/pandas/core/ops/array_ops.py:164\u001b[0m, in \u001b[0;36m_na_arithmetic_op\u001b[0;34m(left, right, op, is_cmp)\u001b[0m\n\u001b[1;32m    161\u001b[0m     func \u001b[39m=\u001b[39m partial(expressions\u001b[39m.\u001b[39mevaluate, op)\n\u001b[1;32m    163\u001b[0m \u001b[39mtry\u001b[39;00m:\n\u001b[0;32m--> 164\u001b[0m     result \u001b[39m=\u001b[39m func(left, right)\n\u001b[1;32m    165\u001b[0m \u001b[39mexcept\u001b[39;00m \u001b[39mTypeError\u001b[39;00m:\n\u001b[1;32m    166\u001b[0m     \u001b[39mif\u001b[39;00m \u001b[39mnot\u001b[39;00m is_cmp \u001b[39mand\u001b[39;00m (is_object_dtype(left\u001b[39m.\u001b[39mdtype) \u001b[39mor\u001b[39;00m is_object_dtype(right)):\n\u001b[1;32m    167\u001b[0m         \u001b[39m# For object dtype, fallback to a masked operation (only operating\u001b[39;00m\n\u001b[1;32m    168\u001b[0m         \u001b[39m#  on the non-missing values)\u001b[39;00m\n\u001b[1;32m    169\u001b[0m         \u001b[39m# Don't do this for comparisons, as that will handle complex numbers\u001b[39;00m\n\u001b[1;32m    170\u001b[0m         \u001b[39m#  incorrectly, see GH#32047\u001b[39;00m\n",
      "\u001b[0;31mUFuncTypeError\u001b[0m: ufunc 'add' did not contain a loop with signature matching types (dtype('float64'), dtype('<U20')) -> None"
     ]
    }
   ],
   "source": [
    "wine_quality_without_outliers_df = []\n",
    "\n",
    "for wine_df in wine_quality_dfs:\n",
    "    new_name = wine_df +'_without_outliers_df'\n",
    "    print(new_name)"
   ]
  },
  {
   "cell_type": "code",
   "execution_count": null,
   "metadata": {},
   "outputs": [],
   "source": []
  },
  {
   "cell_type": "code",
   "execution_count": null,
   "metadata": {},
   "outputs": [],
   "source": [
    "delete_outliers(df_white_good)"
   ]
  },
  {
   "cell_type": "markdown",
   "metadata": {},
   "source": [
    "Create heatmaps to understant the relationship between features and wine quality score."
   ]
  },
  {
   "cell_type": "code",
   "execution_count": null,
   "metadata": {},
   "outputs": [],
   "source": [
    "def create_corr_matrix(wine_type_df):\n",
    "       numeric_columns = check_numeric_columns(wine_type_df)\n",
    "\n",
    "       #print(f'Correlation matrix for {get_wine_str(wine_type_df)}')\n",
    "       #print(wine_type_df[numeric_columns].corr())\n",
    "       return wine_type_df[numeric_columns].corr()\n",
    "\n",
    "cmap = sns.diverging_palette(230, 20, as_cmap=True)\n",
    "\n",
    "def create_heat_map(wine_type_df):\n",
    "\n",
    "       correlation_matrix = create_corr_matrix(wine_type_df)\n",
    "\n",
    "       plt.figure(figsize=(15, 10))\n",
    "\n",
    "       ## do not display features that has a low correlation\n",
    "       mask_low_corr = np.abs(correlation_matrix) < 0.05\n",
    "       \n",
    "       sns.heatmap(correlation_matrix, annot=True, cmap=cmap, mask = mask_low_corr, linewidths=.5, vmax=1, vmin=-1)\n",
    "\n",
    "       plt.title(f'Correlation matrix for {get_wine_str(wine_type_df)}')\n",
    "       plt.xticks(rotation=45)\n",
    "       plt.yticks(rotation=45)\n",
    "       plt.show()\n",
    "\n",
    "def create_clustermap(wine_type_df):\n",
    "       correlation_matrix = create_corr_matrix(wine_type_df)\n",
    "       ## do not display features that has a low correlation\n",
    "       mask_low_corr = np.abs(correlation_matrix) < 0.05\n",
    "       print(mask_low_corr)\n",
    "\n",
    "       plt.figure(figsize=(15, 15))\n",
    "       sns.clustermap(correlation_matrix, annot=True, mask = mask_low_corr, cmap= cmap,linewidths=.5, vmax=1, vmin=-1)\n",
    "\n",
    "       plt.title(f'Correlation matrix for {get_wine_str(wine_type_df)}')\n",
    "       plt.xticks(rotation=45)\n",
    "       plt.yticks(rotation=45)\n",
    "       plt.show()\n"
   ]
  },
  {
   "cell_type": "code",
   "execution_count": null,
   "metadata": {},
   "outputs": [],
   "source": [
    "create_plots(create_clustermap, wine_quality_dfs)"
   ]
  },
  {
   "cell_type": "code",
   "execution_count": null,
   "metadata": {},
   "outputs": [],
   "source": [
    "create_clustermap(df_red_wine)"
   ]
  },
  {
   "cell_type": "code",
   "execution_count": null,
   "metadata": {},
   "outputs": [],
   "source": [
    "create_clustermap(log_white_wine_df)"
   ]
  },
  {
   "cell_type": "code",
   "execution_count": null,
   "metadata": {},
   "outputs": [],
   "source": [
    "create_clustermap(log_red_wine_df)"
   ]
  },
  {
   "cell_type": "markdown",
   "metadata": {},
   "source": [
    "**Conclusions from the clustermaps**\n",
    "\n",
    "- Features that have high correlation between each other but low correlation with *quality* can be used to reduced dementions of our data  (We can use PCA to identyfe as many features we need)\n",
    "\n",
    "### Selecting the most importnat features for **quality** prediction using top K features "
   ]
  },
  {
   "cell_type": "markdown",
   "metadata": {},
   "source": [
    "## Visualize Data\n",
    "\n",
    "1) Quality distribiution based on the wine type (color)"
   ]
  },
  {
   "cell_type": "code",
   "execution_count": null,
   "metadata": {},
   "outputs": [],
   "source": [
    "def visualize_quality_histogram(datasets):\n",
    "    num_datasets = len(datasets)\n",
    "\n",
    "    # Create subplots\n",
    "    fig, axes = plt.subplots(1, num_datasets, figsize=(15, 5), sharey=True)\n",
    "\n",
    "    for i, (df, name) in enumerate(datasets):\n",
    "        quality_column = df['quality']\n",
    "        axes[i].hist(quality_column, bins=20, edgecolor='black', density = True)\n",
    "        axes[i].set_xlabel('Quality Score')\n",
    "        axes[i].set_ylabel('Density')\n",
    "        axes[i].set_title(f'{name} Quality Score Distribution')\n",
    "\n",
    "    plt.tight_layout()\n",
    "    plt.show()\n",
    "\n",
    "# Example usage with two datasets (red wine and white wine)\n",
    "datasets = [\n",
    "    (df_red_wine, 'Red Wine'),\n",
    "    (df_white_wine, 'White Wine')\n",
    "]\n",
    "\n",
    "visualize_quality_histogram(datasets)\n"
   ]
  },
  {
   "cell_type": "code",
   "execution_count": null,
   "metadata": {},
   "outputs": [],
   "source": []
  },
  {
   "cell_type": "markdown",
   "metadata": {},
   "source": [
    "## Significant Statement"
   ]
  },
  {
   "cell_type": "markdown",
   "metadata": {},
   "source": [
    "## Conclusion & Discussions"
   ]
  }
 ],
 "metadata": {
  "kernelspec": {
   "display_name": "Python 3",
   "language": "python",
   "name": "python3"
  },
  "language_info": {
   "codemirror_mode": {
    "name": "ipython",
    "version": 3
   },
   "file_extension": ".py",
   "mimetype": "text/x-python",
   "name": "python",
   "nbconvert_exporter": "python",
   "pygments_lexer": "ipython3",
   "version": "3.11.6"
  }
 },
 "nbformat": 4,
 "nbformat_minor": 2
}
